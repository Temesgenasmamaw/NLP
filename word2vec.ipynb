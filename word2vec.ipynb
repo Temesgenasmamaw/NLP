{
  "nbformat": 4,
  "nbformat_minor": 0,
  "metadata": {
    "colab": {
      "provenance": [],
      "authorship_tag": "ABX9TyNSD/U0bc2+MBWFrZ4B4v1D",
      "include_colab_link": true
    },
    "kernelspec": {
      "name": "python3",
      "display_name": "Python 3"
    },
    "language_info": {
      "name": "python"
    },
    "accelerator": "GPU",
    "gpuClass": "standard"
  },
  "cells": [
    {
      "cell_type": "markdown",
      "metadata": {
        "id": "view-in-github",
        "colab_type": "text"
      },
      "source": [
        "<a href=\"https://colab.research.google.com/github/Temesgenasmamaw/NLP/blob/main/word2vec.ipynb\" target=\"_parent\"><img src=\"https://colab.research.google.com/assets/colab-badge.svg\" alt=\"Open In Colab\"/></a>"
      ]
    },
    {
      "cell_type": "code",
      "execution_count": 1,
      "metadata": {
        "id": "oFuuErM-r4st"
      },
      "outputs": [],
      "source": [
        "import nltk\n",
        "\n",
        "from gensim.models import Word2Vec\n",
        "from nltk.corpus import stopwords\n",
        "\n",
        "import re"
      ]
    },
    {
      "cell_type": "code",
      "source": [
        "paragraph = \"\"\"Ethiopia is one of the oldest countries in Africa,[1] the emergence of Ethiopian civilization dates back thousands of years. Due to migration and imperial expansion, it grew to include many other primarily Afro-Asiatic-speaking communities, including Amhara, Oromos, Somalis, Tigray, Afars, Sidama, Gurage, Agaw and Harari, among others. One of the first kingdoms to rise to power in the territory was the kingdom of D'mt in the 10th century BC, which established its capital at Yeha. In the first century AD the Aksumite Kingdom rose to power in the Tigray Region with its capital at Aksum and grew into a major power on the Red Sea, subjugating Yemen and Meroe. In the early fourth century, during the reign of Ezana, Christianity was declared the state religion. Ezana's reign is also when the Aksumites first identified themselves as \"Ethiopians\", and not long after, Philostorgius became the first foreign author to call the Aksumites Ethiopians.[2] The Aksumite empire fell into decline with the rise of Islam in the Arabian peninsula, which slowly shifted trade away from the Christian Aksum.[citation needed] It eventually became isolated, its economy slumped and Aksum's commercial domination of the region ended.[3] The Aksumites gave way to the Zagwe dynasty, who established a new capital at Lalibela before giving way to the Solomonic dynasty in the 13th century. During the early Solomonic period, Ethiopia went through military reforms and imperial expansion that allowed it to dominate the Horn of Africa. Portuguese missionaries arrived at this time\"\"\""
      ],
      "metadata": {
        "id": "wP2hLruMvyWC"
      },
      "execution_count": 41,
      "outputs": []
    },
    {
      "cell_type": "code",
      "source": [
        "# Preprocessing the data\n",
        "text = re.sub(r'\\[[0-9]*\\]',' ',paragraph)\n",
        "text = re.sub(r'\\s+',' ',text)\n",
        "text = text.lower()\n",
        "text = re.sub(r'\\d',' ',text)\n",
        "text = re.sub(r'\\s+',' ',text)\n",
        "\n",
        "text"
      ],
      "metadata": {
        "colab": {
          "base_uri": "https://localhost:8080/",
          "height": 128
        },
        "id": "irswoi0Qv4Sj",
        "outputId": "6e9ab584-c02b-49ef-e8c0-207b6dc3dcfe"
      },
      "execution_count": 42,
      "outputs": [
        {
          "output_type": "execute_result",
          "data": {
            "text/plain": [
              "'ethiopia is one of the oldest countries in africa, the emergence of ethiopian civilization dates back thousands of years. due to migration and imperial expansion, it grew to include many other primarily afro-asiatic-speaking communities, including amhara, oromos, somalis, tigray, afars, sidama, gurage, agaw and harari, among others. one of the first kingdoms to rise to power in the territory was the kingdom of d\\'mt in the th century bc, which established its capital at yeha. in the first century ad the aksumite kingdom rose to power in the tigray region with its capital at aksum and grew into a major power on the red sea, subjugating yemen and meroe. in the early fourth century, during the reign of ezana, christianity was declared the state religion. ezana\\'s reign is also when the aksumites first identified themselves as \"ethiopians\", and not long after, philostorgius became the first foreign author to call the aksumites ethiopians. the aksumite empire fell into decline with the rise of islam in the arabian peninsula, which slowly shifted trade away from the christian aksum.[citation needed] it eventually became isolated, its economy slumped and aksum\\'s commercial domination of the region ended. the aksumites gave way to the zagwe dynasty, who established a new capital at lalibela before giving way to the solomonic dynasty in the th century. during the early solomonic period, ethiopia went through military reforms and imperial expansion that allowed it to dominate the horn of africa. portuguese missionaries arrived at this time'"
            ],
            "application/vnd.google.colaboratory.intrinsic+json": {
              "type": "string"
            }
          },
          "metadata": {},
          "execution_count": 42
        }
      ]
    },
    {
      "cell_type": "code",
      "source": [
        "nltk.download('punkt')\n",
        "nltk.download('stopwords')"
      ],
      "metadata": {
        "colab": {
          "base_uri": "https://localhost:8080/"
        },
        "id": "omB_9qPPxsO3",
        "outputId": "b4c0475b-cc50-47fa-d4f3-bc205e5574e4"
      },
      "execution_count": 43,
      "outputs": [
        {
          "output_type": "stream",
          "name": "stderr",
          "text": [
            "[nltk_data] Downloading package punkt to /root/nltk_data...\n",
            "[nltk_data]   Package punkt is already up-to-date!\n",
            "[nltk_data] Downloading package stopwords to /root/nltk_data...\n",
            "[nltk_data]   Package stopwords is already up-to-date!\n"
          ]
        },
        {
          "output_type": "execute_result",
          "data": {
            "text/plain": [
              "True"
            ]
          },
          "metadata": {},
          "execution_count": 43
        }
      ]
    },
    {
      "cell_type": "code",
      "source": [
        "from nltk.tokenize import sent_tokenize, word_tokenize"
      ],
      "metadata": {
        "id": "RbrTn3BK543L"
      },
      "execution_count": 44,
      "outputs": []
    },
    {
      "cell_type": "code",
      "source": [
        "# Preparing the dataset\n",
        "sentences = sent_tokenize(text)\n",
        "sentences"
      ],
      "metadata": {
        "colab": {
          "base_uri": "https://localhost:8080/"
        },
        "id": "i8tlz7mH1Q9-",
        "outputId": "7d4921f0-cf99-48f4-c6be-cb06fe8f03e0"
      },
      "execution_count": 45,
      "outputs": [
        {
          "output_type": "execute_result",
          "data": {
            "text/plain": [
              "['ethiopia is one of the oldest countries in africa, the emergence of ethiopian civilization dates back thousands of years.',\n",
              " 'due to migration and imperial expansion, it grew to include many other primarily afro-asiatic-speaking communities, including amhara, oromos, somalis, tigray, afars, sidama, gurage, agaw and harari, among others.',\n",
              " \"one of the first kingdoms to rise to power in the territory was the kingdom of d'mt in the th century bc, which established its capital at yeha.\",\n",
              " 'in the first century ad the aksumite kingdom rose to power in the tigray region with its capital at aksum and grew into a major power on the red sea, subjugating yemen and meroe.',\n",
              " 'in the early fourth century, during the reign of ezana, christianity was declared the state religion.',\n",
              " 'ezana\\'s reign is also when the aksumites first identified themselves as \"ethiopians\", and not long after, philostorgius became the first foreign author to call the aksumites ethiopians.',\n",
              " 'the aksumite empire fell into decline with the rise of islam in the arabian peninsula, which slowly shifted trade away from the christian aksum.',\n",
              " \"[citation needed] it eventually became isolated, its economy slumped and aksum's commercial domination of the region ended.\",\n",
              " 'the aksumites gave way to the zagwe dynasty, who established a new capital at lalibela before giving way to the solomonic dynasty in the th century.',\n",
              " 'during the early solomonic period, ethiopia went through military reforms and imperial expansion that allowed it to dominate the horn of africa.',\n",
              " 'portuguese missionaries arrived at this time']"
            ]
          },
          "metadata": {},
          "execution_count": 45
        }
      ]
    },
    {
      "cell_type": "code",
      "source": [
        "sentences = [word_tokenize(sentence) for sentence in sentences]\n",
        "sentences"
      ],
      "metadata": {
        "colab": {
          "base_uri": "https://localhost:8080/"
        },
        "id": "xEe14IKi1XjR",
        "outputId": "913f749e-0b48-44d4-8c70-7833c1b5d09b"
      },
      "execution_count": 46,
      "outputs": [
        {
          "output_type": "execute_result",
          "data": {
            "text/plain": [
              "[['ethiopia',\n",
              "  'is',\n",
              "  'one',\n",
              "  'of',\n",
              "  'the',\n",
              "  'oldest',\n",
              "  'countries',\n",
              "  'in',\n",
              "  'africa',\n",
              "  ',',\n",
              "  'the',\n",
              "  'emergence',\n",
              "  'of',\n",
              "  'ethiopian',\n",
              "  'civilization',\n",
              "  'dates',\n",
              "  'back',\n",
              "  'thousands',\n",
              "  'of',\n",
              "  'years',\n",
              "  '.'],\n",
              " ['due',\n",
              "  'to',\n",
              "  'migration',\n",
              "  'and',\n",
              "  'imperial',\n",
              "  'expansion',\n",
              "  ',',\n",
              "  'it',\n",
              "  'grew',\n",
              "  'to',\n",
              "  'include',\n",
              "  'many',\n",
              "  'other',\n",
              "  'primarily',\n",
              "  'afro-asiatic-speaking',\n",
              "  'communities',\n",
              "  ',',\n",
              "  'including',\n",
              "  'amhara',\n",
              "  ',',\n",
              "  'oromos',\n",
              "  ',',\n",
              "  'somalis',\n",
              "  ',',\n",
              "  'tigray',\n",
              "  ',',\n",
              "  'afars',\n",
              "  ',',\n",
              "  'sidama',\n",
              "  ',',\n",
              "  'gurage',\n",
              "  ',',\n",
              "  'agaw',\n",
              "  'and',\n",
              "  'harari',\n",
              "  ',',\n",
              "  'among',\n",
              "  'others',\n",
              "  '.'],\n",
              " ['one',\n",
              "  'of',\n",
              "  'the',\n",
              "  'first',\n",
              "  'kingdoms',\n",
              "  'to',\n",
              "  'rise',\n",
              "  'to',\n",
              "  'power',\n",
              "  'in',\n",
              "  'the',\n",
              "  'territory',\n",
              "  'was',\n",
              "  'the',\n",
              "  'kingdom',\n",
              "  'of',\n",
              "  \"d'mt\",\n",
              "  'in',\n",
              "  'the',\n",
              "  'th',\n",
              "  'century',\n",
              "  'bc',\n",
              "  ',',\n",
              "  'which',\n",
              "  'established',\n",
              "  'its',\n",
              "  'capital',\n",
              "  'at',\n",
              "  'yeha',\n",
              "  '.'],\n",
              " ['in',\n",
              "  'the',\n",
              "  'first',\n",
              "  'century',\n",
              "  'ad',\n",
              "  'the',\n",
              "  'aksumite',\n",
              "  'kingdom',\n",
              "  'rose',\n",
              "  'to',\n",
              "  'power',\n",
              "  'in',\n",
              "  'the',\n",
              "  'tigray',\n",
              "  'region',\n",
              "  'with',\n",
              "  'its',\n",
              "  'capital',\n",
              "  'at',\n",
              "  'aksum',\n",
              "  'and',\n",
              "  'grew',\n",
              "  'into',\n",
              "  'a',\n",
              "  'major',\n",
              "  'power',\n",
              "  'on',\n",
              "  'the',\n",
              "  'red',\n",
              "  'sea',\n",
              "  ',',\n",
              "  'subjugating',\n",
              "  'yemen',\n",
              "  'and',\n",
              "  'meroe',\n",
              "  '.'],\n",
              " ['in',\n",
              "  'the',\n",
              "  'early',\n",
              "  'fourth',\n",
              "  'century',\n",
              "  ',',\n",
              "  'during',\n",
              "  'the',\n",
              "  'reign',\n",
              "  'of',\n",
              "  'ezana',\n",
              "  ',',\n",
              "  'christianity',\n",
              "  'was',\n",
              "  'declared',\n",
              "  'the',\n",
              "  'state',\n",
              "  'religion',\n",
              "  '.'],\n",
              " ['ezana',\n",
              "  \"'s\",\n",
              "  'reign',\n",
              "  'is',\n",
              "  'also',\n",
              "  'when',\n",
              "  'the',\n",
              "  'aksumites',\n",
              "  'first',\n",
              "  'identified',\n",
              "  'themselves',\n",
              "  'as',\n",
              "  '``',\n",
              "  'ethiopians',\n",
              "  \"''\",\n",
              "  ',',\n",
              "  'and',\n",
              "  'not',\n",
              "  'long',\n",
              "  'after',\n",
              "  ',',\n",
              "  'philostorgius',\n",
              "  'became',\n",
              "  'the',\n",
              "  'first',\n",
              "  'foreign',\n",
              "  'author',\n",
              "  'to',\n",
              "  'call',\n",
              "  'the',\n",
              "  'aksumites',\n",
              "  'ethiopians',\n",
              "  '.'],\n",
              " ['the',\n",
              "  'aksumite',\n",
              "  'empire',\n",
              "  'fell',\n",
              "  'into',\n",
              "  'decline',\n",
              "  'with',\n",
              "  'the',\n",
              "  'rise',\n",
              "  'of',\n",
              "  'islam',\n",
              "  'in',\n",
              "  'the',\n",
              "  'arabian',\n",
              "  'peninsula',\n",
              "  ',',\n",
              "  'which',\n",
              "  'slowly',\n",
              "  'shifted',\n",
              "  'trade',\n",
              "  'away',\n",
              "  'from',\n",
              "  'the',\n",
              "  'christian',\n",
              "  'aksum',\n",
              "  '.'],\n",
              " ['[',\n",
              "  'citation',\n",
              "  'needed',\n",
              "  ']',\n",
              "  'it',\n",
              "  'eventually',\n",
              "  'became',\n",
              "  'isolated',\n",
              "  ',',\n",
              "  'its',\n",
              "  'economy',\n",
              "  'slumped',\n",
              "  'and',\n",
              "  'aksum',\n",
              "  \"'s\",\n",
              "  'commercial',\n",
              "  'domination',\n",
              "  'of',\n",
              "  'the',\n",
              "  'region',\n",
              "  'ended',\n",
              "  '.'],\n",
              " ['the',\n",
              "  'aksumites',\n",
              "  'gave',\n",
              "  'way',\n",
              "  'to',\n",
              "  'the',\n",
              "  'zagwe',\n",
              "  'dynasty',\n",
              "  ',',\n",
              "  'who',\n",
              "  'established',\n",
              "  'a',\n",
              "  'new',\n",
              "  'capital',\n",
              "  'at',\n",
              "  'lalibela',\n",
              "  'before',\n",
              "  'giving',\n",
              "  'way',\n",
              "  'to',\n",
              "  'the',\n",
              "  'solomonic',\n",
              "  'dynasty',\n",
              "  'in',\n",
              "  'the',\n",
              "  'th',\n",
              "  'century',\n",
              "  '.'],\n",
              " ['during',\n",
              "  'the',\n",
              "  'early',\n",
              "  'solomonic',\n",
              "  'period',\n",
              "  ',',\n",
              "  'ethiopia',\n",
              "  'went',\n",
              "  'through',\n",
              "  'military',\n",
              "  'reforms',\n",
              "  'and',\n",
              "  'imperial',\n",
              "  'expansion',\n",
              "  'that',\n",
              "  'allowed',\n",
              "  'it',\n",
              "  'to',\n",
              "  'dominate',\n",
              "  'the',\n",
              "  'horn',\n",
              "  'of',\n",
              "  'africa',\n",
              "  '.'],\n",
              " ['portuguese', 'missionaries', 'arrived', 'at', 'this', 'time']]"
            ]
          },
          "metadata": {},
          "execution_count": 46
        }
      ]
    },
    {
      "cell_type": "code",
      "source": [
        "\n",
        "for i in range(len(sentences)):\n",
        "    sentences[i] = [word for word in sentences[i] if word not in stopwords.words('english')]\n",
        "    print(sentences[i])"
      ],
      "metadata": {
        "colab": {
          "base_uri": "https://localhost:8080/"
        },
        "id": "RU2HKJpVv7nf",
        "outputId": "f92059ba-61cd-4fb3-f21e-950d60c95f5b"
      },
      "execution_count": 47,
      "outputs": [
        {
          "output_type": "stream",
          "name": "stdout",
          "text": [
            "['ethiopia', 'one', 'oldest', 'countries', 'africa', ',', 'emergence', 'ethiopian', 'civilization', 'dates', 'back', 'thousands', 'years', '.']\n",
            "['due', 'migration', 'imperial', 'expansion', ',', 'grew', 'include', 'many', 'primarily', 'afro-asiatic-speaking', 'communities', ',', 'including', 'amhara', ',', 'oromos', ',', 'somalis', ',', 'tigray', ',', 'afars', ',', 'sidama', ',', 'gurage', ',', 'agaw', 'harari', ',', 'among', 'others', '.']\n",
            "['one', 'first', 'kingdoms', 'rise', 'power', 'territory', 'kingdom', \"d'mt\", 'th', 'century', 'bc', ',', 'established', 'capital', 'yeha', '.']\n",
            "['first', 'century', 'ad', 'aksumite', 'kingdom', 'rose', 'power', 'tigray', 'region', 'capital', 'aksum', 'grew', 'major', 'power', 'red', 'sea', ',', 'subjugating', 'yemen', 'meroe', '.']\n",
            "['early', 'fourth', 'century', ',', 'reign', 'ezana', ',', 'christianity', 'declared', 'state', 'religion', '.']\n",
            "['ezana', \"'s\", 'reign', 'also', 'aksumites', 'first', 'identified', '``', 'ethiopians', \"''\", ',', 'long', ',', 'philostorgius', 'became', 'first', 'foreign', 'author', 'call', 'aksumites', 'ethiopians', '.']\n",
            "['aksumite', 'empire', 'fell', 'decline', 'rise', 'islam', 'arabian', 'peninsula', ',', 'slowly', 'shifted', 'trade', 'away', 'christian', 'aksum', '.']\n",
            "['[', 'citation', 'needed', ']', 'eventually', 'became', 'isolated', ',', 'economy', 'slumped', 'aksum', \"'s\", 'commercial', 'domination', 'region', 'ended', '.']\n",
            "['aksumites', 'gave', 'way', 'zagwe', 'dynasty', ',', 'established', 'new', 'capital', 'lalibela', 'giving', 'way', 'solomonic', 'dynasty', 'th', 'century', '.']\n",
            "['early', 'solomonic', 'period', ',', 'ethiopia', 'went', 'military', 'reforms', 'imperial', 'expansion', 'allowed', 'dominate', 'horn', 'africa', '.']\n",
            "['portuguese', 'missionaries', 'arrived', 'time']\n"
          ]
        }
      ]
    },
    {
      "cell_type": "code",
      "source": [
        "# Training the Word2Vec model\n",
        "model = Word2Vec(sentences, min_count=1)"
      ],
      "metadata": {
        "colab": {
          "base_uri": "https://localhost:8080/"
        },
        "id": "eiXvXnl9xomh",
        "outputId": "57530f39-8656-4893-f5ac-88aa32ae8e71"
      },
      "execution_count": 48,
      "outputs": [
        {
          "output_type": "stream",
          "name": "stderr",
          "text": [
            "WARNING:gensim.models.base_any2vec:under 10 jobs per worker: consider setting a smaller `batch_words' for smoother alpha decay\n"
          ]
        }
      ]
    },
    {
      "cell_type": "code",
      "source": [
        "words = model.wv.vocab\n",
        "words"
      ],
      "metadata": {
        "colab": {
          "base_uri": "https://localhost:8080/"
        },
        "id": "AgNlCv4d6Dr_",
        "outputId": "2cb9c8aa-3741-43c7-a322-db378d6992ea"
      },
      "execution_count": 49,
      "outputs": [
        {
          "output_type": "execute_result",
          "data": {
            "text/plain": [
              "{'ethiopia': <gensim.models.keyedvectors.Vocab at 0x7fe7432b0eb0>,\n",
              " 'one': <gensim.models.keyedvectors.Vocab at 0x7fe7432b0cd0>,\n",
              " 'oldest': <gensim.models.keyedvectors.Vocab at 0x7fe7432b0460>,\n",
              " 'countries': <gensim.models.keyedvectors.Vocab at 0x7fe7432b0c70>,\n",
              " 'africa': <gensim.models.keyedvectors.Vocab at 0x7fe7432b0a60>,\n",
              " ',': <gensim.models.keyedvectors.Vocab at 0x7fe7432b0c40>,\n",
              " 'emergence': <gensim.models.keyedvectors.Vocab at 0x7fe7432b0b50>,\n",
              " 'ethiopian': <gensim.models.keyedvectors.Vocab at 0x7fe7432b0580>,\n",
              " 'civilization': <gensim.models.keyedvectors.Vocab at 0x7fe7432b0520>,\n",
              " 'dates': <gensim.models.keyedvectors.Vocab at 0x7fe7432b0f10>,\n",
              " 'back': <gensim.models.keyedvectors.Vocab at 0x7fe7432b0a00>,\n",
              " 'thousands': <gensim.models.keyedvectors.Vocab at 0x7fe7432b0d90>,\n",
              " 'years': <gensim.models.keyedvectors.Vocab at 0x7fe7432b0880>,\n",
              " '.': <gensim.models.keyedvectors.Vocab at 0x7fe73b9fc580>,\n",
              " 'due': <gensim.models.keyedvectors.Vocab at 0x7fe73b9fc100>,\n",
              " 'migration': <gensim.models.keyedvectors.Vocab at 0x7fe73b9fc910>,\n",
              " 'imperial': <gensim.models.keyedvectors.Vocab at 0x7fe73b9fc700>,\n",
              " 'expansion': <gensim.models.keyedvectors.Vocab at 0x7fe73b9fc280>,\n",
              " 'grew': <gensim.models.keyedvectors.Vocab at 0x7fe73b9fcfd0>,\n",
              " 'include': <gensim.models.keyedvectors.Vocab at 0x7fe73b9fc9a0>,\n",
              " 'many': <gensim.models.keyedvectors.Vocab at 0x7fe73b9fc490>,\n",
              " 'primarily': <gensim.models.keyedvectors.Vocab at 0x7fe73b9fc880>,\n",
              " 'afro-asiatic-speaking': <gensim.models.keyedvectors.Vocab at 0x7fe73b9fc0d0>,\n",
              " 'communities': <gensim.models.keyedvectors.Vocab at 0x7fe73b9fc1f0>,\n",
              " 'including': <gensim.models.keyedvectors.Vocab at 0x7fe73b9fc940>,\n",
              " 'amhara': <gensim.models.keyedvectors.Vocab at 0x7fe73b9fc610>,\n",
              " 'oromos': <gensim.models.keyedvectors.Vocab at 0x7fe73b9fc250>,\n",
              " 'somalis': <gensim.models.keyedvectors.Vocab at 0x7fe73b9fcb20>,\n",
              " 'tigray': <gensim.models.keyedvectors.Vocab at 0x7fe73b9fc4f0>,\n",
              " 'afars': <gensim.models.keyedvectors.Vocab at 0x7fe73b9fc1c0>,\n",
              " 'sidama': <gensim.models.keyedvectors.Vocab at 0x7fe73b9fc7f0>,\n",
              " 'gurage': <gensim.models.keyedvectors.Vocab at 0x7fe73b9fcdc0>,\n",
              " 'agaw': <gensim.models.keyedvectors.Vocab at 0x7fe73b9fc400>,\n",
              " 'harari': <gensim.models.keyedvectors.Vocab at 0x7fe73b9fcd30>,\n",
              " 'among': <gensim.models.keyedvectors.Vocab at 0x7fe7399c6070>,\n",
              " 'others': <gensim.models.keyedvectors.Vocab at 0x7fe7399c60d0>,\n",
              " 'first': <gensim.models.keyedvectors.Vocab at 0x7fe7399c6130>,\n",
              " 'kingdoms': <gensim.models.keyedvectors.Vocab at 0x7fe7399c6190>,\n",
              " 'rise': <gensim.models.keyedvectors.Vocab at 0x7fe7399c61f0>,\n",
              " 'power': <gensim.models.keyedvectors.Vocab at 0x7fe7399c6250>,\n",
              " 'territory': <gensim.models.keyedvectors.Vocab at 0x7fe7399c62b0>,\n",
              " 'kingdom': <gensim.models.keyedvectors.Vocab at 0x7fe7399c6310>,\n",
              " \"d'mt\": <gensim.models.keyedvectors.Vocab at 0x7fe7399c6370>,\n",
              " 'th': <gensim.models.keyedvectors.Vocab at 0x7fe7399c63d0>,\n",
              " 'century': <gensim.models.keyedvectors.Vocab at 0x7fe7399c6430>,\n",
              " 'bc': <gensim.models.keyedvectors.Vocab at 0x7fe7399c6490>,\n",
              " 'established': <gensim.models.keyedvectors.Vocab at 0x7fe7399c64f0>,\n",
              " 'capital': <gensim.models.keyedvectors.Vocab at 0x7fe7399c6550>,\n",
              " 'yeha': <gensim.models.keyedvectors.Vocab at 0x7fe7399c65b0>,\n",
              " 'ad': <gensim.models.keyedvectors.Vocab at 0x7fe7399c6610>,\n",
              " 'aksumite': <gensim.models.keyedvectors.Vocab at 0x7fe7399c6670>,\n",
              " 'rose': <gensim.models.keyedvectors.Vocab at 0x7fe7399c66d0>,\n",
              " 'region': <gensim.models.keyedvectors.Vocab at 0x7fe7399c6730>,\n",
              " 'aksum': <gensim.models.keyedvectors.Vocab at 0x7fe7399c6790>,\n",
              " 'major': <gensim.models.keyedvectors.Vocab at 0x7fe7399c67f0>,\n",
              " 'red': <gensim.models.keyedvectors.Vocab at 0x7fe7399c6850>,\n",
              " 'sea': <gensim.models.keyedvectors.Vocab at 0x7fe7399c68b0>,\n",
              " 'subjugating': <gensim.models.keyedvectors.Vocab at 0x7fe7399c6910>,\n",
              " 'yemen': <gensim.models.keyedvectors.Vocab at 0x7fe7399c6970>,\n",
              " 'meroe': <gensim.models.keyedvectors.Vocab at 0x7fe7399c69d0>,\n",
              " 'early': <gensim.models.keyedvectors.Vocab at 0x7fe7399c6a30>,\n",
              " 'fourth': <gensim.models.keyedvectors.Vocab at 0x7fe7399c6a90>,\n",
              " 'reign': <gensim.models.keyedvectors.Vocab at 0x7fe7399c6af0>,\n",
              " 'ezana': <gensim.models.keyedvectors.Vocab at 0x7fe7399c6b50>,\n",
              " 'christianity': <gensim.models.keyedvectors.Vocab at 0x7fe7399c6bb0>,\n",
              " 'declared': <gensim.models.keyedvectors.Vocab at 0x7fe7399c6c10>,\n",
              " 'state': <gensim.models.keyedvectors.Vocab at 0x7fe7399c6c70>,\n",
              " 'religion': <gensim.models.keyedvectors.Vocab at 0x7fe7399c6cd0>,\n",
              " \"'s\": <gensim.models.keyedvectors.Vocab at 0x7fe7399c6d30>,\n",
              " 'also': <gensim.models.keyedvectors.Vocab at 0x7fe7399c6d90>,\n",
              " 'aksumites': <gensim.models.keyedvectors.Vocab at 0x7fe7399c6df0>,\n",
              " 'identified': <gensim.models.keyedvectors.Vocab at 0x7fe7399c6e50>,\n",
              " '``': <gensim.models.keyedvectors.Vocab at 0x7fe7399c6eb0>,\n",
              " 'ethiopians': <gensim.models.keyedvectors.Vocab at 0x7fe7399c6f10>,\n",
              " \"''\": <gensim.models.keyedvectors.Vocab at 0x7fe7399c6f70>,\n",
              " 'long': <gensim.models.keyedvectors.Vocab at 0x7fe7399c6fd0>,\n",
              " 'philostorgius': <gensim.models.keyedvectors.Vocab at 0x7fe7399c5070>,\n",
              " 'became': <gensim.models.keyedvectors.Vocab at 0x7fe7399c50d0>,\n",
              " 'foreign': <gensim.models.keyedvectors.Vocab at 0x7fe7399c5130>,\n",
              " 'author': <gensim.models.keyedvectors.Vocab at 0x7fe7399c5190>,\n",
              " 'call': <gensim.models.keyedvectors.Vocab at 0x7fe7399c51f0>,\n",
              " 'empire': <gensim.models.keyedvectors.Vocab at 0x7fe7399c5250>,\n",
              " 'fell': <gensim.models.keyedvectors.Vocab at 0x7fe7399c52b0>,\n",
              " 'decline': <gensim.models.keyedvectors.Vocab at 0x7fe7399c5310>,\n",
              " 'islam': <gensim.models.keyedvectors.Vocab at 0x7fe7399c5370>,\n",
              " 'arabian': <gensim.models.keyedvectors.Vocab at 0x7fe7399c53d0>,\n",
              " 'peninsula': <gensim.models.keyedvectors.Vocab at 0x7fe7399c5430>,\n",
              " 'slowly': <gensim.models.keyedvectors.Vocab at 0x7fe7399c5490>,\n",
              " 'shifted': <gensim.models.keyedvectors.Vocab at 0x7fe7399c54f0>,\n",
              " 'trade': <gensim.models.keyedvectors.Vocab at 0x7fe7399c5550>,\n",
              " 'away': <gensim.models.keyedvectors.Vocab at 0x7fe7399c55b0>,\n",
              " 'christian': <gensim.models.keyedvectors.Vocab at 0x7fe7399c5610>,\n",
              " '[': <gensim.models.keyedvectors.Vocab at 0x7fe7399c5670>,\n",
              " 'citation': <gensim.models.keyedvectors.Vocab at 0x7fe7399c56d0>,\n",
              " 'needed': <gensim.models.keyedvectors.Vocab at 0x7fe7399c5730>,\n",
              " ']': <gensim.models.keyedvectors.Vocab at 0x7fe7399c5790>,\n",
              " 'eventually': <gensim.models.keyedvectors.Vocab at 0x7fe7399c57f0>,\n",
              " 'isolated': <gensim.models.keyedvectors.Vocab at 0x7fe7399c5850>,\n",
              " 'economy': <gensim.models.keyedvectors.Vocab at 0x7fe7399c58b0>,\n",
              " 'slumped': <gensim.models.keyedvectors.Vocab at 0x7fe7399c5910>,\n",
              " 'commercial': <gensim.models.keyedvectors.Vocab at 0x7fe7399c5970>,\n",
              " 'domination': <gensim.models.keyedvectors.Vocab at 0x7fe7399c59d0>,\n",
              " 'ended': <gensim.models.keyedvectors.Vocab at 0x7fe7399c5a30>,\n",
              " 'gave': <gensim.models.keyedvectors.Vocab at 0x7fe7399c5a90>,\n",
              " 'way': <gensim.models.keyedvectors.Vocab at 0x7fe7399c5af0>,\n",
              " 'zagwe': <gensim.models.keyedvectors.Vocab at 0x7fe7399c5b50>,\n",
              " 'dynasty': <gensim.models.keyedvectors.Vocab at 0x7fe7399c5bb0>,\n",
              " 'new': <gensim.models.keyedvectors.Vocab at 0x7fe7399c5c10>,\n",
              " 'lalibela': <gensim.models.keyedvectors.Vocab at 0x7fe7399c5c70>,\n",
              " 'giving': <gensim.models.keyedvectors.Vocab at 0x7fe7399c5cd0>,\n",
              " 'solomonic': <gensim.models.keyedvectors.Vocab at 0x7fe7399c5d30>,\n",
              " 'period': <gensim.models.keyedvectors.Vocab at 0x7fe7399c5d90>,\n",
              " 'went': <gensim.models.keyedvectors.Vocab at 0x7fe7399c5df0>,\n",
              " 'military': <gensim.models.keyedvectors.Vocab at 0x7fe7399c5e50>,\n",
              " 'reforms': <gensim.models.keyedvectors.Vocab at 0x7fe7399c5eb0>,\n",
              " 'allowed': <gensim.models.keyedvectors.Vocab at 0x7fe7399c5f10>,\n",
              " 'dominate': <gensim.models.keyedvectors.Vocab at 0x7fe7399c5f70>,\n",
              " 'horn': <gensim.models.keyedvectors.Vocab at 0x7fe7399c5fd0>,\n",
              " 'portuguese': <gensim.models.keyedvectors.Vocab at 0x7fe7399c7070>,\n",
              " 'missionaries': <gensim.models.keyedvectors.Vocab at 0x7fe7399c70d0>,\n",
              " 'arrived': <gensim.models.keyedvectors.Vocab at 0x7fe7399c7130>,\n",
              " 'time': <gensim.models.keyedvectors.Vocab at 0x7fe7399c7190>}"
            ]
          },
          "metadata": {},
          "execution_count": 49
        }
      ]
    },
    {
      "cell_type": "code",
      "source": [
        "# Finding Word Vectors\n",
        "vector = model.wv['africa']\n",
        "vector"
      ],
      "metadata": {
        "colab": {
          "base_uri": "https://localhost:8080/"
        },
        "id": "7Nb_Drzv6Igq",
        "outputId": "98c74eab-3113-49d0-f256-bf981bb670f7"
      },
      "execution_count": 50,
      "outputs": [
        {
          "output_type": "execute_result",
          "data": {
            "text/plain": [
              "array([-2.68434640e-03, -3.13674333e-03,  2.37624208e-03, -2.70906207e-03,\n",
              "       -7.81353796e-04, -2.01965263e-03, -2.87079229e-03,  3.23139102e-04,\n",
              "       -4.15607775e-03, -3.65141383e-03, -4.31085238e-03, -2.64853169e-03,\n",
              "        1.84171402e-03,  4.22294298e-03, -3.76366172e-03,  3.22821294e-03,\n",
              "        2.39563244e-03, -4.59068827e-03,  4.63337172e-03, -1.51672948e-03,\n",
              "       -2.52589904e-04, -3.19593656e-03, -1.16302271e-03,  4.42053145e-03,\n",
              "       -4.73305676e-03,  3.20957450e-04,  1.65442086e-03,  2.61150231e-03,\n",
              "       -3.27812298e-03, -7.41229451e-04, -9.23277810e-04,  1.55169517e-03,\n",
              "        2.99316924e-03,  1.31542957e-03, -2.04153778e-03, -1.43118959e-03,\n",
              "        2.35126819e-03, -2.57884245e-03,  3.35154415e-04, -3.17209424e-03,\n",
              "       -2.50341254e-03, -4.13835514e-03, -7.19307456e-04,  1.45022734e-03,\n",
              "       -5.02489554e-03,  3.19951330e-03,  4.45586134e-04,  2.69636686e-04,\n",
              "       -4.51595569e-03,  4.30127548e-04,  1.10632682e-03,  2.47675367e-03,\n",
              "        4.43747360e-03,  3.56313190e-03,  1.79404917e-03,  4.04075673e-03,\n",
              "        8.25588533e-04,  1.00301135e-04, -4.31507106e-05,  3.11468053e-03,\n",
              "       -2.98457278e-04,  1.73472415e-03,  1.58901722e-03,  3.54239298e-03,\n",
              "        1.75365072e-03, -1.46553561e-03, -6.35440301e-05, -6.65500294e-04,\n",
              "       -2.45156931e-04,  8.47218093e-04,  3.85684939e-03,  4.34895884e-03,\n",
              "       -3.71480011e-03,  2.23334832e-03,  1.41632650e-03, -2.97863875e-03,\n",
              "       -9.34701529e-04, -1.53724523e-03,  2.56843632e-03,  2.01252382e-03,\n",
              "        1.04486637e-04, -4.68844170e-04,  1.66409963e-03, -2.98222387e-03,\n",
              "       -1.29494432e-03, -4.23230790e-03,  7.53406028e-04,  1.04093878e-03,\n",
              "       -2.48404965e-03, -2.13906605e-04, -2.50074640e-03, -2.39229947e-03,\n",
              "        3.55885248e-03, -3.49240843e-03,  7.35829817e-04,  3.86395887e-03,\n",
              "       -8.36508261e-05,  3.29948659e-03,  3.25476727e-03,  3.26200691e-03],\n",
              "      dtype=float32)"
            ]
          },
          "metadata": {},
          "execution_count": 50
        }
      ]
    },
    {
      "cell_type": "code",
      "source": [
        "# Most similar words\n",
        "similar = model.wv.most_similar('ethiopia')[:10]\n",
        "similar"
      ],
      "metadata": {
        "colab": {
          "base_uri": "https://localhost:8080/"
        },
        "id": "B0mNkMiu6O6f",
        "outputId": "63e20ac9-906a-4ab2-c260-517d2247b9e0"
      },
      "execution_count": 54,
      "outputs": [
        {
          "output_type": "execute_result",
          "data": {
            "text/plain": [
              "[('portuguese', 0.26861652731895447),\n",
              " ('period', 0.1948588490486145),\n",
              " ('slumped', 0.1788811981678009),\n",
              " ('expansion', 0.1704481542110443),\n",
              " ('first', 0.16759997606277466),\n",
              " ('domination', 0.15775629878044128),\n",
              " ('early', 0.15264809131622314),\n",
              " ('went', 0.15073342621326447),\n",
              " ('many', 0.1463424563407898),\n",
              " ('time', 0.13526539504528046)]"
            ]
          },
          "metadata": {},
          "execution_count": 54
        }
      ]
    },
    {
      "cell_type": "code",
      "source": [],
      "metadata": {
        "id": "NJJQ1XH27JWc"
      },
      "execution_count": null,
      "outputs": []
    }
  ]
}