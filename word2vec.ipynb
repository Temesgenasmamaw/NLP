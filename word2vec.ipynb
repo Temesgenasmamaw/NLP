{
  "nbformat": 4,
  "nbformat_minor": 0,
  "metadata": {
    "colab": {
      "provenance": [],
      "authorship_tag": "ABX9TyOxgWIxRxi0HP17FWD222Jv",
      "include_colab_link": true
    },
    "kernelspec": {
      "name": "python3",
      "display_name": "Python 3"
    },
    "language_info": {
      "name": "python"
    },
    "accelerator": "GPU",
    "gpuClass": "standard"
  },
  "cells": [
    {
      "cell_type": "markdown",
      "metadata": {
        "id": "view-in-github",
        "colab_type": "text"
      },
      "source": [
        "<a href=\"https://colab.research.google.com/github/Temesgenasmamaw/NLP/blob/main/word2vec.ipynb\" target=\"_parent\"><img src=\"https://colab.research.google.com/assets/colab-badge.svg\" alt=\"Open In Colab\"/></a>"
      ]
    },
    {
      "cell_type": "code",
      "execution_count": 1,
      "metadata": {
        "id": "oFuuErM-r4st"
      },
      "outputs": [],
      "source": [
        "import nltk\n",
        "\n",
        "from gensim.models import Word2Vec\n",
        "from nltk.corpus import stopwords\n",
        "\n",
        "import re"
      ]
    },
    {
      "cell_type": "code",
      "source": [
        "paragraph = \"\"\"I have three visions for India. In 3000 years of our history, people from all over \n",
        "               the world have come and invaded us, captured our lands, conquered our minds. \n",
        "               From Alexander onwards, the Greeks, the Turks, the Moguls, the Portuguese, the British,\n",
        "               the French, the Dutch, all of them came and looted us, took over what was ours. \n",
        "               Yet we have not done this to any other nation. We have not conquered anyone. \n",
        "               We have not grabbed their land, their culture, \n",
        "               their history and tried to enforce our way of life on them. \n",
        "               Why? Because we respect the freedom of others.That is why my \n",
        "               first vision is that of freedom. I believe that India got its first vision of \n",
        "               this in 1857, when we started the War of Independence. It is this freedom that\n",
        "               we must protect and nurture and build on. If we are not free, no one will respect us.\n",
        "               My second vision for India’s development. For fifty years we have been a developing nation.\n",
        "               It is time we see ourselves as a developed nation. We are among the top 5 nations of the world\n",
        "               in terms of GDP. We have a 10 percent growth rate in most areas. Our poverty levels are falling.\n",
        "               Our achievements are being globally recognised today. Yet we lack the self-confidence to\n",
        "               see ourselves as a developed nation, self-reliant and self-assured. Isn’t this incorrect?\n",
        "               I have a third vision. India must stand up to the world. Because I believe that unless India \n",
        "               stands up to the world, no one will respect us. Only strength respects strength. We must be \n",
        "               strong not only as a military power but also as an economic power. Both must go hand-in-hand. \n",
        "               My good fortune was to have worked with three great minds. Dr. Vikram Sarabhai of the Dept. of \n",
        "               space, Professor Satish Dhawan, who succeeded him and Dr. Brahm Prakash, father of nuclear material.\n",
        "               I was lucky to have worked with all three of them closely and consider this the great opportunity of my life. \n",
        "               I see four milestones in my career\"\"\""
      ],
      "metadata": {
        "id": "wP2hLruMvyWC"
      },
      "execution_count": 2,
      "outputs": []
    },
    {
      "cell_type": "code",
      "source": [
        "# Preprocessing the data\n",
        "text = re.sub(r'\\[[0-9]*\\]',' ',paragraph)\n",
        "text = re.sub(r'\\s+',' ',text)\n",
        "text = text.lower()\n",
        "text = re.sub(r'\\d',' ',text)\n",
        "text = re.sub(r'\\s+',' ',text)\n",
        "\n",
        "text"
      ],
      "metadata": {
        "colab": {
          "base_uri": "https://localhost:8080/",
          "height": 128
        },
        "id": "irswoi0Qv4Sj",
        "outputId": "b4dd35be-9030-4298-a8ae-fb3327038666"
      },
      "execution_count": 24,
      "outputs": [
        {
          "output_type": "execute_result",
          "data": {
            "text/plain": [
              "'i have three visions for india. in years of our history, people from all over the world have come and invaded us, captured our lands, conquered our minds. from alexander onwards, the greeks, the turks, the moguls, the portuguese, the british, the french, the dutch, all of them came and looted us, took over what was ours. yet we have not done this to any other nation. we have not conquered anyone. we have not grabbed their land, their culture, their history and tried to enforce our way of life on them. why? because we respect the freedom of others.that is why my first vision is that of freedom. i believe that india got its first vision of this in , when we started the war of independence. it is this freedom that we must protect and nurture and build on. if we are not free, no one will respect us. my second vision for india’s development. for fifty years we have been a developing nation. it is time we see ourselves as a developed nation. we are among the top nations of the world in terms of gdp. we have a percent growth rate in most areas. our poverty levels are falling. our achievements are being globally recognised today. yet we lack the self-confidence to see ourselves as a developed nation, self-reliant and self-assured. isn’t this incorrect? i have a third vision. india must stand up to the world. because i believe that unless india stands up to the world, no one will respect us. only strength respects strength. we must be strong not only as a military power but also as an economic power. both must go hand-in-hand. my good fortune was to have worked with three great minds. dr. vikram sarabhai of the dept. of space, professor satish dhawan, who succeeded him and dr. brahm prakash, father of nuclear material. i was lucky to have worked with all three of them closely and consider this the great opportunity of my life. i see four milestones in my career'"
            ],
            "application/vnd.google.colaboratory.intrinsic+json": {
              "type": "string"
            }
          },
          "metadata": {},
          "execution_count": 24
        }
      ]
    },
    {
      "cell_type": "code",
      "source": [
        "nltk.download('punkt')\n",
        "nltk.download('stopwords')"
      ],
      "metadata": {
        "colab": {
          "base_uri": "https://localhost:8080/"
        },
        "id": "omB_9qPPxsO3",
        "outputId": "adab1178-d32d-4916-f54a-c85805736380"
      },
      "execution_count": 13,
      "outputs": [
        {
          "output_type": "stream",
          "name": "stderr",
          "text": [
            "[nltk_data] Downloading package punkt to /root/nltk_data...\n",
            "[nltk_data]   Package punkt is already up-to-date!\n",
            "[nltk_data] Downloading package stopwords to /root/nltk_data...\n",
            "[nltk_data]   Unzipping corpora/stopwords.zip.\n"
          ]
        },
        {
          "output_type": "execute_result",
          "data": {
            "text/plain": [
              "True"
            ]
          },
          "metadata": {},
          "execution_count": 13
        }
      ]
    },
    {
      "cell_type": "code",
      "source": [
        "from nltk.tokenize import sent_tokenize, word_tokenize"
      ],
      "metadata": {
        "id": "RbrTn3BK543L"
      },
      "execution_count": 27,
      "outputs": []
    },
    {
      "cell_type": "code",
      "source": [
        "# Preparing the dataset\n",
        "sentences = sent_tokenize(text)\n",
        "sentences"
      ],
      "metadata": {
        "colab": {
          "base_uri": "https://localhost:8080/"
        },
        "id": "i8tlz7mH1Q9-",
        "outputId": "639e3a4d-05db-4ee4-8301-97c706b0f515"
      },
      "execution_count": 28,
      "outputs": [
        {
          "output_type": "execute_result",
          "data": {
            "text/plain": [
              "['i have three visions for india.',\n",
              " 'in years of our history, people from all over the world have come and invaded us, captured our lands, conquered our minds.',\n",
              " 'from alexander onwards, the greeks, the turks, the moguls, the portuguese, the british, the french, the dutch, all of them came and looted us, took over what was ours.',\n",
              " 'yet we have not done this to any other nation.',\n",
              " 'we have not conquered anyone.',\n",
              " 'we have not grabbed their land, their culture, their history and tried to enforce our way of life on them.',\n",
              " 'why?',\n",
              " 'because we respect the freedom of others.that is why my first vision is that of freedom.',\n",
              " 'i believe that india got its first vision of this in , when we started the war of independence.',\n",
              " 'it is this freedom that we must protect and nurture and build on.',\n",
              " 'if we are not free, no one will respect us.',\n",
              " 'my second vision for india’s development.',\n",
              " 'for fifty years we have been a developing nation.',\n",
              " 'it is time we see ourselves as a developed nation.',\n",
              " 'we are among the top nations of the world in terms of gdp.',\n",
              " 'we have a percent growth rate in most areas.',\n",
              " 'our poverty levels are falling.',\n",
              " 'our achievements are being globally recognised today.',\n",
              " 'yet we lack the self-confidence to see ourselves as a developed nation, self-reliant and self-assured.',\n",
              " 'isn’t this incorrect?',\n",
              " 'i have a third vision.',\n",
              " 'india must stand up to the world.',\n",
              " 'because i believe that unless india stands up to the world, no one will respect us.',\n",
              " 'only strength respects strength.',\n",
              " 'we must be strong not only as a military power but also as an economic power.',\n",
              " 'both must go hand-in-hand.',\n",
              " 'my good fortune was to have worked with three great minds.',\n",
              " 'dr. vikram sarabhai of the dept.',\n",
              " 'of space, professor satish dhawan, who succeeded him and dr. brahm prakash, father of nuclear material.',\n",
              " 'i was lucky to have worked with all three of them closely and consider this the great opportunity of my life.',\n",
              " 'i see four milestones in my career']"
            ]
          },
          "metadata": {},
          "execution_count": 28
        }
      ]
    },
    {
      "cell_type": "code",
      "source": [
        "sentences = [word_tokenize(sentence) for sentence in sentences]\n",
        "sentences"
      ],
      "metadata": {
        "colab": {
          "base_uri": "https://localhost:8080/"
        },
        "id": "xEe14IKi1XjR",
        "outputId": "115150af-0837-4d95-90aa-47fd1d8ad188"
      },
      "execution_count": 29,
      "outputs": [
        {
          "output_type": "execute_result",
          "data": {
            "text/plain": [
              "[['i', 'have', 'three', 'visions', 'for', 'india', '.'],\n",
              " ['in',\n",
              "  'years',\n",
              "  'of',\n",
              "  'our',\n",
              "  'history',\n",
              "  ',',\n",
              "  'people',\n",
              "  'from',\n",
              "  'all',\n",
              "  'over',\n",
              "  'the',\n",
              "  'world',\n",
              "  'have',\n",
              "  'come',\n",
              "  'and',\n",
              "  'invaded',\n",
              "  'us',\n",
              "  ',',\n",
              "  'captured',\n",
              "  'our',\n",
              "  'lands',\n",
              "  ',',\n",
              "  'conquered',\n",
              "  'our',\n",
              "  'minds',\n",
              "  '.'],\n",
              " ['from',\n",
              "  'alexander',\n",
              "  'onwards',\n",
              "  ',',\n",
              "  'the',\n",
              "  'greeks',\n",
              "  ',',\n",
              "  'the',\n",
              "  'turks',\n",
              "  ',',\n",
              "  'the',\n",
              "  'moguls',\n",
              "  ',',\n",
              "  'the',\n",
              "  'portuguese',\n",
              "  ',',\n",
              "  'the',\n",
              "  'british',\n",
              "  ',',\n",
              "  'the',\n",
              "  'french',\n",
              "  ',',\n",
              "  'the',\n",
              "  'dutch',\n",
              "  ',',\n",
              "  'all',\n",
              "  'of',\n",
              "  'them',\n",
              "  'came',\n",
              "  'and',\n",
              "  'looted',\n",
              "  'us',\n",
              "  ',',\n",
              "  'took',\n",
              "  'over',\n",
              "  'what',\n",
              "  'was',\n",
              "  'ours',\n",
              "  '.'],\n",
              " ['yet',\n",
              "  'we',\n",
              "  'have',\n",
              "  'not',\n",
              "  'done',\n",
              "  'this',\n",
              "  'to',\n",
              "  'any',\n",
              "  'other',\n",
              "  'nation',\n",
              "  '.'],\n",
              " ['we', 'have', 'not', 'conquered', 'anyone', '.'],\n",
              " ['we',\n",
              "  'have',\n",
              "  'not',\n",
              "  'grabbed',\n",
              "  'their',\n",
              "  'land',\n",
              "  ',',\n",
              "  'their',\n",
              "  'culture',\n",
              "  ',',\n",
              "  'their',\n",
              "  'history',\n",
              "  'and',\n",
              "  'tried',\n",
              "  'to',\n",
              "  'enforce',\n",
              "  'our',\n",
              "  'way',\n",
              "  'of',\n",
              "  'life',\n",
              "  'on',\n",
              "  'them',\n",
              "  '.'],\n",
              " ['why', '?'],\n",
              " ['because',\n",
              "  'we',\n",
              "  'respect',\n",
              "  'the',\n",
              "  'freedom',\n",
              "  'of',\n",
              "  'others.that',\n",
              "  'is',\n",
              "  'why',\n",
              "  'my',\n",
              "  'first',\n",
              "  'vision',\n",
              "  'is',\n",
              "  'that',\n",
              "  'of',\n",
              "  'freedom',\n",
              "  '.'],\n",
              " ['i',\n",
              "  'believe',\n",
              "  'that',\n",
              "  'india',\n",
              "  'got',\n",
              "  'its',\n",
              "  'first',\n",
              "  'vision',\n",
              "  'of',\n",
              "  'this',\n",
              "  'in',\n",
              "  ',',\n",
              "  'when',\n",
              "  'we',\n",
              "  'started',\n",
              "  'the',\n",
              "  'war',\n",
              "  'of',\n",
              "  'independence',\n",
              "  '.'],\n",
              " ['it',\n",
              "  'is',\n",
              "  'this',\n",
              "  'freedom',\n",
              "  'that',\n",
              "  'we',\n",
              "  'must',\n",
              "  'protect',\n",
              "  'and',\n",
              "  'nurture',\n",
              "  'and',\n",
              "  'build',\n",
              "  'on',\n",
              "  '.'],\n",
              " ['if',\n",
              "  'we',\n",
              "  'are',\n",
              "  'not',\n",
              "  'free',\n",
              "  ',',\n",
              "  'no',\n",
              "  'one',\n",
              "  'will',\n",
              "  'respect',\n",
              "  'us',\n",
              "  '.'],\n",
              " ['my', 'second', 'vision', 'for', 'india', '’', 's', 'development', '.'],\n",
              " ['for',\n",
              "  'fifty',\n",
              "  'years',\n",
              "  'we',\n",
              "  'have',\n",
              "  'been',\n",
              "  'a',\n",
              "  'developing',\n",
              "  'nation',\n",
              "  '.'],\n",
              " ['it',\n",
              "  'is',\n",
              "  'time',\n",
              "  'we',\n",
              "  'see',\n",
              "  'ourselves',\n",
              "  'as',\n",
              "  'a',\n",
              "  'developed',\n",
              "  'nation',\n",
              "  '.'],\n",
              " ['we',\n",
              "  'are',\n",
              "  'among',\n",
              "  'the',\n",
              "  'top',\n",
              "  'nations',\n",
              "  'of',\n",
              "  'the',\n",
              "  'world',\n",
              "  'in',\n",
              "  'terms',\n",
              "  'of',\n",
              "  'gdp',\n",
              "  '.'],\n",
              " ['we', 'have', 'a', 'percent', 'growth', 'rate', 'in', 'most', 'areas', '.'],\n",
              " ['our', 'poverty', 'levels', 'are', 'falling', '.'],\n",
              " ['our',\n",
              "  'achievements',\n",
              "  'are',\n",
              "  'being',\n",
              "  'globally',\n",
              "  'recognised',\n",
              "  'today',\n",
              "  '.'],\n",
              " ['yet',\n",
              "  'we',\n",
              "  'lack',\n",
              "  'the',\n",
              "  'self-confidence',\n",
              "  'to',\n",
              "  'see',\n",
              "  'ourselves',\n",
              "  'as',\n",
              "  'a',\n",
              "  'developed',\n",
              "  'nation',\n",
              "  ',',\n",
              "  'self-reliant',\n",
              "  'and',\n",
              "  'self-assured',\n",
              "  '.'],\n",
              " ['isn', '’', 't', 'this', 'incorrect', '?'],\n",
              " ['i', 'have', 'a', 'third', 'vision', '.'],\n",
              " ['india', 'must', 'stand', 'up', 'to', 'the', 'world', '.'],\n",
              " ['because',\n",
              "  'i',\n",
              "  'believe',\n",
              "  'that',\n",
              "  'unless',\n",
              "  'india',\n",
              "  'stands',\n",
              "  'up',\n",
              "  'to',\n",
              "  'the',\n",
              "  'world',\n",
              "  ',',\n",
              "  'no',\n",
              "  'one',\n",
              "  'will',\n",
              "  'respect',\n",
              "  'us',\n",
              "  '.'],\n",
              " ['only', 'strength', 'respects', 'strength', '.'],\n",
              " ['we',\n",
              "  'must',\n",
              "  'be',\n",
              "  'strong',\n",
              "  'not',\n",
              "  'only',\n",
              "  'as',\n",
              "  'a',\n",
              "  'military',\n",
              "  'power',\n",
              "  'but',\n",
              "  'also',\n",
              "  'as',\n",
              "  'an',\n",
              "  'economic',\n",
              "  'power',\n",
              "  '.'],\n",
              " ['both', 'must', 'go', 'hand-in-hand', '.'],\n",
              " ['my',\n",
              "  'good',\n",
              "  'fortune',\n",
              "  'was',\n",
              "  'to',\n",
              "  'have',\n",
              "  'worked',\n",
              "  'with',\n",
              "  'three',\n",
              "  'great',\n",
              "  'minds',\n",
              "  '.'],\n",
              " ['dr.', 'vikram', 'sarabhai', 'of', 'the', 'dept', '.'],\n",
              " ['of',\n",
              "  'space',\n",
              "  ',',\n",
              "  'professor',\n",
              "  'satish',\n",
              "  'dhawan',\n",
              "  ',',\n",
              "  'who',\n",
              "  'succeeded',\n",
              "  'him',\n",
              "  'and',\n",
              "  'dr.',\n",
              "  'brahm',\n",
              "  'prakash',\n",
              "  ',',\n",
              "  'father',\n",
              "  'of',\n",
              "  'nuclear',\n",
              "  'material',\n",
              "  '.'],\n",
              " ['i',\n",
              "  'was',\n",
              "  'lucky',\n",
              "  'to',\n",
              "  'have',\n",
              "  'worked',\n",
              "  'with',\n",
              "  'all',\n",
              "  'three',\n",
              "  'of',\n",
              "  'them',\n",
              "  'closely',\n",
              "  'and',\n",
              "  'consider',\n",
              "  'this',\n",
              "  'the',\n",
              "  'great',\n",
              "  'opportunity',\n",
              "  'of',\n",
              "  'my',\n",
              "  'life',\n",
              "  '.'],\n",
              " ['i', 'see', 'four', 'milestones', 'in', 'my', 'career']]"
            ]
          },
          "metadata": {},
          "execution_count": 29
        }
      ]
    },
    {
      "cell_type": "code",
      "source": [],
      "metadata": {
        "id": "UjAqjOuo2GVx"
      },
      "execution_count": 20,
      "outputs": []
    },
    {
      "cell_type": "code",
      "source": [
        "\n",
        "for i in range(len(sentences)):\n",
        "    sentences[i] = [word for word in sentences[i] if word not in stopwords.words('english')]\n",
        "    print(sentences[i])"
      ],
      "metadata": {
        "colab": {
          "base_uri": "https://localhost:8080/"
        },
        "id": "RU2HKJpVv7nf",
        "outputId": "fe96a71f-6a8d-4b1d-9c5f-0de998b3991d"
      },
      "execution_count": 30,
      "outputs": [
        {
          "output_type": "stream",
          "name": "stdout",
          "text": [
            "['three', 'visions', 'india', '.']\n",
            "['years', 'history', ',', 'people', 'world', 'come', 'invaded', 'us', ',', 'captured', 'lands', ',', 'conquered', 'minds', '.']\n",
            "['alexander', 'onwards', ',', 'greeks', ',', 'turks', ',', 'moguls', ',', 'portuguese', ',', 'british', ',', 'french', ',', 'dutch', ',', 'came', 'looted', 'us', ',', 'took', '.']\n",
            "['yet', 'done', 'nation', '.']\n",
            "['conquered', 'anyone', '.']\n",
            "['grabbed', 'land', ',', 'culture', ',', 'history', 'tried', 'enforce', 'way', 'life', '.']\n",
            "['?']\n",
            "['respect', 'freedom', 'others.that', 'first', 'vision', 'freedom', '.']\n",
            "['believe', 'india', 'got', 'first', 'vision', ',', 'started', 'war', 'independence', '.']\n",
            "['freedom', 'must', 'protect', 'nurture', 'build', '.']\n",
            "['free', ',', 'one', 'respect', 'us', '.']\n",
            "['second', 'vision', 'india', '’', 'development', '.']\n",
            "['fifty', 'years', 'developing', 'nation', '.']\n",
            "['time', 'see', 'developed', 'nation', '.']\n",
            "['among', 'top', 'nations', 'world', 'terms', 'gdp', '.']\n",
            "['percent', 'growth', 'rate', 'areas', '.']\n",
            "['poverty', 'levels', 'falling', '.']\n",
            "['achievements', 'globally', 'recognised', 'today', '.']\n",
            "['yet', 'lack', 'self-confidence', 'see', 'developed', 'nation', ',', 'self-reliant', 'self-assured', '.']\n",
            "['’', 'incorrect', '?']\n",
            "['third', 'vision', '.']\n",
            "['india', 'must', 'stand', 'world', '.']\n",
            "['believe', 'unless', 'india', 'stands', 'world', ',', 'one', 'respect', 'us', '.']\n",
            "['strength', 'respects', 'strength', '.']\n",
            "['must', 'strong', 'military', 'power', 'also', 'economic', 'power', '.']\n",
            "['must', 'go', 'hand-in-hand', '.']\n",
            "['good', 'fortune', 'worked', 'three', 'great', 'minds', '.']\n",
            "['dr.', 'vikram', 'sarabhai', 'dept', '.']\n",
            "['space', ',', 'professor', 'satish', 'dhawan', ',', 'succeeded', 'dr.', 'brahm', 'prakash', ',', 'father', 'nuclear', 'material', '.']\n",
            "['lucky', 'worked', 'three', 'closely', 'consider', 'great', 'opportunity', 'life', '.']\n",
            "['see', 'four', 'milestones', 'career']\n"
          ]
        }
      ]
    },
    {
      "cell_type": "code",
      "source": [
        "# Training the Word2Vec model\n",
        "model = Word2Vec(sentences, min_count=1)"
      ],
      "metadata": {
        "colab": {
          "base_uri": "https://localhost:8080/"
        },
        "id": "eiXvXnl9xomh",
        "outputId": "5a8d8e53-c9db-43a1-8d97-6f50f2f3ed15"
      },
      "execution_count": 31,
      "outputs": [
        {
          "output_type": "stream",
          "name": "stderr",
          "text": [
            "WARNING:gensim.models.base_any2vec:under 10 jobs per worker: consider setting a smaller `batch_words' for smoother alpha decay\n"
          ]
        }
      ]
    },
    {
      "cell_type": "code",
      "source": [
        "words = model.wv.vocab\n",
        "words"
      ],
      "metadata": {
        "colab": {
          "base_uri": "https://localhost:8080/"
        },
        "id": "AgNlCv4d6Dr_",
        "outputId": "b6b144db-c7ac-4fa0-c529-863ab35b3b39"
      },
      "execution_count": 32,
      "outputs": [
        {
          "output_type": "execute_result",
          "data": {
            "text/plain": [
              "{'three': <gensim.models.keyedvectors.Vocab at 0x7fe73b9fca90>,\n",
              " 'visions': <gensim.models.keyedvectors.Vocab at 0x7fe7434bf6d0>,\n",
              " 'india': <gensim.models.keyedvectors.Vocab at 0x7fe7434bfaf0>,\n",
              " '.': <gensim.models.keyedvectors.Vocab at 0x7fe7435e2430>,\n",
              " 'years': <gensim.models.keyedvectors.Vocab at 0x7fe7435e2c10>,\n",
              " 'history': <gensim.models.keyedvectors.Vocab at 0x7fe7435e2640>,\n",
              " ',': <gensim.models.keyedvectors.Vocab at 0x7fe7435e2d00>,\n",
              " 'people': <gensim.models.keyedvectors.Vocab at 0x7fe7435e2250>,\n",
              " 'world': <gensim.models.keyedvectors.Vocab at 0x7fe7435e24f0>,\n",
              " 'come': <gensim.models.keyedvectors.Vocab at 0x7fe7435e2400>,\n",
              " 'invaded': <gensim.models.keyedvectors.Vocab at 0x7fe7435e2790>,\n",
              " 'us': <gensim.models.keyedvectors.Vocab at 0x7fe7435e2be0>,\n",
              " 'captured': <gensim.models.keyedvectors.Vocab at 0x7fe7435e2a60>,\n",
              " 'lands': <gensim.models.keyedvectors.Vocab at 0x7fe7435e2b80>,\n",
              " 'conquered': <gensim.models.keyedvectors.Vocab at 0x7fe7435e2af0>,\n",
              " 'minds': <gensim.models.keyedvectors.Vocab at 0x7fe7435e2760>,\n",
              " 'alexander': <gensim.models.keyedvectors.Vocab at 0x7fe7435e2820>,\n",
              " 'onwards': <gensim.models.keyedvectors.Vocab at 0x7fe7435e28b0>,\n",
              " 'greeks': <gensim.models.keyedvectors.Vocab at 0x7fe7435e2a90>,\n",
              " 'turks': <gensim.models.keyedvectors.Vocab at 0x7fe7435e2dc0>,\n",
              " 'moguls': <gensim.models.keyedvectors.Vocab at 0x7fe7435e2cd0>,\n",
              " 'portuguese': <gensim.models.keyedvectors.Vocab at 0x7fe7435e27f0>,\n",
              " 'british': <gensim.models.keyedvectors.Vocab at 0x7fe7435e2940>,\n",
              " 'french': <gensim.models.keyedvectors.Vocab at 0x7fe7435e2970>,\n",
              " 'dutch': <gensim.models.keyedvectors.Vocab at 0x7fe7435e2850>,\n",
              " 'came': <gensim.models.keyedvectors.Vocab at 0x7fe7435e2070>,\n",
              " 'looted': <gensim.models.keyedvectors.Vocab at 0x7fe7435e26d0>,\n",
              " 'took': <gensim.models.keyedvectors.Vocab at 0x7fe7435e2b20>,\n",
              " 'yet': <gensim.models.keyedvectors.Vocab at 0x7fe7435e2d90>,\n",
              " 'done': <gensim.models.keyedvectors.Vocab at 0x7fe7435e2e20>,\n",
              " 'nation': <gensim.models.keyedvectors.Vocab at 0x7fe7435e21c0>,\n",
              " 'anyone': <gensim.models.keyedvectors.Vocab at 0x7fe7435e2e80>,\n",
              " 'grabbed': <gensim.models.keyedvectors.Vocab at 0x7fe7435e2280>,\n",
              " 'land': <gensim.models.keyedvectors.Vocab at 0x7fe7432b7070>,\n",
              " 'culture': <gensim.models.keyedvectors.Vocab at 0x7fe7432b70d0>,\n",
              " 'tried': <gensim.models.keyedvectors.Vocab at 0x7fe7432b7130>,\n",
              " 'enforce': <gensim.models.keyedvectors.Vocab at 0x7fe7432b7190>,\n",
              " 'way': <gensim.models.keyedvectors.Vocab at 0x7fe7432b71f0>,\n",
              " 'life': <gensim.models.keyedvectors.Vocab at 0x7fe7432b7250>,\n",
              " '?': <gensim.models.keyedvectors.Vocab at 0x7fe7432b72b0>,\n",
              " 'respect': <gensim.models.keyedvectors.Vocab at 0x7fe7432b7310>,\n",
              " 'freedom': <gensim.models.keyedvectors.Vocab at 0x7fe7432b7370>,\n",
              " 'others.that': <gensim.models.keyedvectors.Vocab at 0x7fe7432b73d0>,\n",
              " 'first': <gensim.models.keyedvectors.Vocab at 0x7fe7432b7430>,\n",
              " 'vision': <gensim.models.keyedvectors.Vocab at 0x7fe7432b7490>,\n",
              " 'believe': <gensim.models.keyedvectors.Vocab at 0x7fe7432b74f0>,\n",
              " 'got': <gensim.models.keyedvectors.Vocab at 0x7fe7432b7550>,\n",
              " 'started': <gensim.models.keyedvectors.Vocab at 0x7fe7432b75b0>,\n",
              " 'war': <gensim.models.keyedvectors.Vocab at 0x7fe7432b7610>,\n",
              " 'independence': <gensim.models.keyedvectors.Vocab at 0x7fe7432b7670>,\n",
              " 'must': <gensim.models.keyedvectors.Vocab at 0x7fe7432b76d0>,\n",
              " 'protect': <gensim.models.keyedvectors.Vocab at 0x7fe7432b7730>,\n",
              " 'nurture': <gensim.models.keyedvectors.Vocab at 0x7fe7432b7790>,\n",
              " 'build': <gensim.models.keyedvectors.Vocab at 0x7fe7432b77f0>,\n",
              " 'free': <gensim.models.keyedvectors.Vocab at 0x7fe7432b7850>,\n",
              " 'one': <gensim.models.keyedvectors.Vocab at 0x7fe7432b78b0>,\n",
              " 'second': <gensim.models.keyedvectors.Vocab at 0x7fe7432b7910>,\n",
              " '’': <gensim.models.keyedvectors.Vocab at 0x7fe7432b7970>,\n",
              " 'development': <gensim.models.keyedvectors.Vocab at 0x7fe7432b79d0>,\n",
              " 'fifty': <gensim.models.keyedvectors.Vocab at 0x7fe7432b7a30>,\n",
              " 'developing': <gensim.models.keyedvectors.Vocab at 0x7fe7432b7a90>,\n",
              " 'time': <gensim.models.keyedvectors.Vocab at 0x7fe7432b7af0>,\n",
              " 'see': <gensim.models.keyedvectors.Vocab at 0x7fe7432b7b50>,\n",
              " 'developed': <gensim.models.keyedvectors.Vocab at 0x7fe7432b7bb0>,\n",
              " 'among': <gensim.models.keyedvectors.Vocab at 0x7fe7432b7c10>,\n",
              " 'top': <gensim.models.keyedvectors.Vocab at 0x7fe7432b7c70>,\n",
              " 'nations': <gensim.models.keyedvectors.Vocab at 0x7fe7432b7cd0>,\n",
              " 'terms': <gensim.models.keyedvectors.Vocab at 0x7fe7432b7d30>,\n",
              " 'gdp': <gensim.models.keyedvectors.Vocab at 0x7fe7432b7d90>,\n",
              " 'percent': <gensim.models.keyedvectors.Vocab at 0x7fe7432b7df0>,\n",
              " 'growth': <gensim.models.keyedvectors.Vocab at 0x7fe7432b7e50>,\n",
              " 'rate': <gensim.models.keyedvectors.Vocab at 0x7fe7432b7eb0>,\n",
              " 'areas': <gensim.models.keyedvectors.Vocab at 0x7fe7432b7f10>,\n",
              " 'poverty': <gensim.models.keyedvectors.Vocab at 0x7fe7432b7f70>,\n",
              " 'levels': <gensim.models.keyedvectors.Vocab at 0x7fe7432b7fd0>,\n",
              " 'falling': <gensim.models.keyedvectors.Vocab at 0x7fe7432b8070>,\n",
              " 'achievements': <gensim.models.keyedvectors.Vocab at 0x7fe7432b80d0>,\n",
              " 'globally': <gensim.models.keyedvectors.Vocab at 0x7fe7432b8160>,\n",
              " 'recognised': <gensim.models.keyedvectors.Vocab at 0x7fe7432b81f0>,\n",
              " 'today': <gensim.models.keyedvectors.Vocab at 0x7fe7432b8250>,\n",
              " 'lack': <gensim.models.keyedvectors.Vocab at 0x7fe7432b82e0>,\n",
              " 'self-confidence': <gensim.models.keyedvectors.Vocab at 0x7fe7432b8310>,\n",
              " 'self-reliant': <gensim.models.keyedvectors.Vocab at 0x7fe7432b8370>,\n",
              " 'self-assured': <gensim.models.keyedvectors.Vocab at 0x7fe7432b83a0>,\n",
              " 'incorrect': <gensim.models.keyedvectors.Vocab at 0x7fe7432b8400>,\n",
              " 'third': <gensim.models.keyedvectors.Vocab at 0x7fe7432b8430>,\n",
              " 'stand': <gensim.models.keyedvectors.Vocab at 0x7fe7432b8460>,\n",
              " 'unless': <gensim.models.keyedvectors.Vocab at 0x7fe7432b8520>,\n",
              " 'stands': <gensim.models.keyedvectors.Vocab at 0x7fe7432b8550>,\n",
              " 'strength': <gensim.models.keyedvectors.Vocab at 0x7fe7432b8580>,\n",
              " 'respects': <gensim.models.keyedvectors.Vocab at 0x7fe7432b8610>,\n",
              " 'strong': <gensim.models.keyedvectors.Vocab at 0x7fe7432b8670>,\n",
              " 'military': <gensim.models.keyedvectors.Vocab at 0x7fe7432b86d0>,\n",
              " 'power': <gensim.models.keyedvectors.Vocab at 0x7fe7432b8730>,\n",
              " 'also': <gensim.models.keyedvectors.Vocab at 0x7fe7432b8790>,\n",
              " 'economic': <gensim.models.keyedvectors.Vocab at 0x7fe7432b8820>,\n",
              " 'go': <gensim.models.keyedvectors.Vocab at 0x7fe7432b88b0>,\n",
              " 'hand-in-hand': <gensim.models.keyedvectors.Vocab at 0x7fe7432b8910>,\n",
              " 'good': <gensim.models.keyedvectors.Vocab at 0x7fe7432b89a0>,\n",
              " 'fortune': <gensim.models.keyedvectors.Vocab at 0x7fe7432b8a00>,\n",
              " 'worked': <gensim.models.keyedvectors.Vocab at 0x7fe7432b8a60>,\n",
              " 'great': <gensim.models.keyedvectors.Vocab at 0x7fe7432b8ac0>,\n",
              " 'dr.': <gensim.models.keyedvectors.Vocab at 0x7fe7432b8af0>,\n",
              " 'vikram': <gensim.models.keyedvectors.Vocab at 0x7fe7432b8b80>,\n",
              " 'sarabhai': <gensim.models.keyedvectors.Vocab at 0x7fe7432b8bb0>,\n",
              " 'dept': <gensim.models.keyedvectors.Vocab at 0x7fe7432b8c40>,\n",
              " 'space': <gensim.models.keyedvectors.Vocab at 0x7fe7432b8c70>,\n",
              " 'professor': <gensim.models.keyedvectors.Vocab at 0x7fe7432b8d00>,\n",
              " 'satish': <gensim.models.keyedvectors.Vocab at 0x7fe7432b8d60>,\n",
              " 'dhawan': <gensim.models.keyedvectors.Vocab at 0x7fe7432b8dc0>,\n",
              " 'succeeded': <gensim.models.keyedvectors.Vocab at 0x7fe7432b8df0>,\n",
              " 'brahm': <gensim.models.keyedvectors.Vocab at 0x7fe7432b8e80>,\n",
              " 'prakash': <gensim.models.keyedvectors.Vocab at 0x7fe7432b8eb0>,\n",
              " 'father': <gensim.models.keyedvectors.Vocab at 0x7fe7432b8f40>,\n",
              " 'nuclear': <gensim.models.keyedvectors.Vocab at 0x7fe7432b8f70>,\n",
              " 'material': <gensim.models.keyedvectors.Vocab at 0x7fe7432b87c0>,\n",
              " 'lucky': <gensim.models.keyedvectors.Vocab at 0x7fe7432b8940>,\n",
              " 'closely': <gensim.models.keyedvectors.Vocab at 0x7fe7432b0070>,\n",
              " 'consider': <gensim.models.keyedvectors.Vocab at 0x7fe7432b00d0>,\n",
              " 'opportunity': <gensim.models.keyedvectors.Vocab at 0x7fe7432b0130>,\n",
              " 'four': <gensim.models.keyedvectors.Vocab at 0x7fe7432b0190>,\n",
              " 'milestones': <gensim.models.keyedvectors.Vocab at 0x7fe7432b01f0>,\n",
              " 'career': <gensim.models.keyedvectors.Vocab at 0x7fe7432b0250>}"
            ]
          },
          "metadata": {},
          "execution_count": 32
        }
      ]
    },
    {
      "cell_type": "code",
      "source": [
        "# Finding Word Vectors\n",
        "vector = model.wv['war']\n",
        "vector"
      ],
      "metadata": {
        "colab": {
          "base_uri": "https://localhost:8080/"
        },
        "id": "7Nb_Drzv6Igq",
        "outputId": "1fb08d9c-90b8-4fc2-85b7-37eaaf082a46"
      },
      "execution_count": 34,
      "outputs": [
        {
          "output_type": "execute_result",
          "data": {
            "text/plain": [
              "array([-4.3067364e-03, -1.1974491e-04,  6.5667980e-04, -2.9011071e-03,\n",
              "       -1.9844535e-03,  2.2739824e-03,  4.2538093e-03,  2.0516289e-03,\n",
              "        1.1861221e-03, -4.9675461e-03,  2.4687788e-03,  3.7881758e-03,\n",
              "       -6.7663903e-05,  4.1368119e-03,  3.8519152e-03,  6.2359043e-04,\n",
              "       -4.6515604e-03, -4.1163308e-03, -3.4515958e-03,  2.8031848e-03,\n",
              "       -1.6195925e-03,  1.5837820e-03, -3.5707133e-03,  3.1643133e-03,\n",
              "       -4.1153035e-03, -1.4004431e-04, -4.5172782e-03,  2.2066506e-03,\n",
              "       -2.9167661e-03,  4.3587238e-03,  2.3960699e-03,  1.2195365e-03,\n",
              "       -2.0391447e-03, -1.6846295e-03,  2.5422582e-03,  1.5142700e-03,\n",
              "       -2.8789120e-03, -2.4958109e-03,  4.9164542e-03, -1.2574630e-04,\n",
              "       -1.5839711e-03, -1.8059062e-03,  8.6341728e-04, -3.5648509e-03,\n",
              "        9.7005448e-04,  8.2302286e-04,  3.4919442e-03, -1.6426261e-03,\n",
              "        3.1963862e-03,  4.9389149e-03,  2.3735948e-03,  5.7090825e-04,\n",
              "        3.9043734e-03,  2.4845621e-03, -7.6275860e-04,  4.4586267e-03,\n",
              "        1.9052187e-03,  1.8911161e-03, -3.0760251e-03, -3.1071091e-03,\n",
              "       -1.2672255e-03, -2.7139257e-03,  9.8522461e-04,  6.9800392e-04,\n",
              "       -4.0131467e-03, -7.6158752e-04, -1.5535385e-03, -3.7354301e-03,\n",
              "       -4.5513506e-03, -1.1215588e-04, -9.0422522e-04, -4.8595755e-03,\n",
              "        2.2402296e-03, -6.0780090e-04,  2.4658616e-03,  3.6426538e-03,\n",
              "       -8.4285636e-04, -2.6293839e-03,  4.6831658e-03, -2.4280252e-03,\n",
              "       -1.7017461e-03, -1.3738747e-03, -4.1642417e-03, -3.8867042e-04,\n",
              "       -4.6412628e-03,  1.1329048e-03, -1.9853207e-05, -3.8539266e-04,\n",
              "        1.8269052e-03, -1.5301213e-03, -4.7043990e-03, -3.5906017e-03,\n",
              "       -2.0395250e-03, -4.1010519e-03,  1.7928260e-03,  4.2631500e-03,\n",
              "       -3.3188131e-04, -2.3824596e-03, -1.4637588e-03, -1.3306380e-03],\n",
              "      dtype=float32)"
            ]
          },
          "metadata": {},
          "execution_count": 34
        }
      ]
    },
    {
      "cell_type": "code",
      "source": [
        "# Most similar words\n",
        "similar = model.wv.most_similar('developing')\n",
        "similar"
      ],
      "metadata": {
        "colab": {
          "base_uri": "https://localhost:8080/"
        },
        "id": "B0mNkMiu6O6f",
        "outputId": "59569304-03e9-4da2-b4fe-067d9484d7cf"
      },
      "execution_count": 40,
      "outputs": [
        {
          "output_type": "execute_result",
          "data": {
            "text/plain": [
              "[('strength', 0.3225356340408325),\n",
              " ('professor', 0.25619569420814514),\n",
              " ('space', 0.20858632028102875),\n",
              " ('independence', 0.1641554832458496),\n",
              " ('got', 0.1612398773431778),\n",
              " ('years', 0.1607886403799057),\n",
              " ('time', 0.15537692606449127),\n",
              " ('lucky', 0.15340669453144073),\n",
              " ('today', 0.15137329697608948),\n",
              " ('fortune', 0.14362840354442596)]"
            ]
          },
          "metadata": {},
          "execution_count": 40
        }
      ]
    }
  ]
}